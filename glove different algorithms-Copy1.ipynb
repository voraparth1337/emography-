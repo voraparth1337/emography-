{
 "cells": [
  {
   "cell_type": "code",
   "execution_count": 1,
   "metadata": {
    "collapsed": true
   },
   "outputs": [],
   "source": [
    "from sklearn.cluster import KMeans\n",
    "from gensim.models import Word2Vec\n",
    "from gensim.models import KeyedVectors\n",
    "import pandas as pd\n",
    "import re\n",
    "from nltk.corpus import stopwords\n",
    "import nltk.data\n",
    "from nltk.tokenize import word_tokenize\n",
    "import time\n",
    "import numpy as np"
   ]
  },
  {
   "cell_type": "code",
   "execution_count": 2,
   "metadata": {
    "collapsed": true
   },
   "outputs": [],
   "source": [
    "model = KeyedVectors.load_word2vec_format(\"GoogleNews-vectors-negative300.bin.gz\", binary=True)  \n",
    "model.init_sims(replace=True)"
   ]
  },
  {
   "cell_type": "code",
   "execution_count": 3,
   "metadata": {
    "collapsed": true
   },
   "outputs": [],
   "source": [
    "tweets = pd.read_csv('tweets_labelled',skipinitialspace=True, skip_blank_lines=True,encoding='latin1')"
   ]
  },
  {
   "cell_type": "code",
   "execution_count": 4,
   "metadata": {
    "collapsed": true
   },
   "outputs": [],
   "source": [
    "index2word_set = set(model.wv.index2word)"
   ]
  },
  {
   "cell_type": "code",
   "execution_count": 5,
   "metadata": {
    "collapsed": true
   },
   "outputs": [],
   "source": [
    "def clean_tweets( text ):\n",
    "    # clean_1 = BeautifulSoup(text,\"lxml\").get_text()\n",
    "    clean_2 = re.sub(\"[^a-zA-Z]\",\" \", text).lower().strip()\n",
    "    clean_3 = word_tokenize(clean_2)\n",
    "    stop_words = set(stopwords.words(\"english\")) - set(['and','or','not'])\n",
    "    words = [w for w in clean_3 if not w in stop_words]\n",
    "    return words\n",
    "\n"
   ]
  },
  {
   "cell_type": "code",
   "execution_count": 9,
   "metadata": {
    "collapsed": true
   },
   "outputs": [],
   "source": [
    "num_features = 300\n",
    "\n",
    "def makeFeatureVec(words, num_features):\n",
    "    global index2word_set\n",
    "    featureVec = np.zeros((num_features,),dtype=\"float32\")\n",
    "    nwords = 0.00000000001\n",
    "    for word in words:\n",
    "        # if the word is in wordset then add to feature vec\n",
    "        if word in index2word_set: \n",
    "            nwords = nwords + 1.\n",
    "            featureVec = np.add(featureVec,model[word])\n",
    "    \n",
    "    featureVec = np.divide(featureVec,nwords)\n",
    "    return featureVec\n",
    "\n",
    "def get_average_feature_vectors( tweets, num_feature ):\n",
    "    counter = 0\n",
    "    tweetFeatureVecs = np.zeros((len(tweets),num_features),dtype=\"float32\")\n",
    "    \n",
    "    for tweet in tweets:\n",
    "        tweetFeatureVecs[counter] = makeFeatureVec(tweet, num_features)\n",
    "        counter += 1\n",
    "    \n",
    "    return tweetFeatureVecs\n"
   ]
  },
  {
   "cell_type": "code",
   "execution_count": 10,
   "metadata": {},
   "outputs": [],
   "source": [
    "np.seterr(divide='ignore', invalid='ignore')\n",
    "start = time.time()\n",
    "\n",
    "cleaned_tweets = []\n",
    "for text in tweets['text']:\n",
    "    cleaned_tweets.append( clean_tweets(text))\n",
    "    \n",
    "DataVecs = get_average_feature_vectors( cleaned_tweets, num_features )\n",
    "\n",
    "end = time.time()\n",
    "\n",
    "elapsed_cleaning = end - start"
   ]
  },
  {
   "cell_type": "code",
   "execution_count": 10,
   "metadata": {
    "collapsed": true
   },
   "outputs": [],
   "source": [
    "from sklearn.neighbors import KNeighborsClassifier\n",
    "import matplotlib.pyplot as plt\n",
    "import seaborn as sns\n",
    "%matplotlib inline"
   ]
  },
  {
   "cell_type": "code",
   "execution_count": 14,
   "metadata": {
    "collapsed": true
   },
   "outputs": [],
   "source": [
    "from sklearn.preprocessing import StandardScaler\n",
    "scaler = StandardScaler()\n",
    "scaler.fit(DataVecs)\n",
    "scaled_features = scaler.transform(DataVecs)\n",
    "data = pd.DataFrame(scaled_features)\n",
    "\n"
   ]
  },
  {
   "cell_type": "code",
   "execution_count": 15,
   "metadata": {},
   "outputs": [],
   "source": [
    "from sklearn.model_selection import train_test_split\n",
    "X_train, X_test, y_train, y_test = train_test_split(DataVecs, tweets['label'],random_state=10,test_size = 0.3 )"
   ]
  },
  {
   "cell_type": "code",
   "execution_count": 25,
   "metadata": {},
   "outputs": [
    {
     "name": "stdout",
     "output_type": "stream",
     "text": [
      "starting mmodel\n",
      "end..\n"
     ]
    }
   ],
   "source": [
    "from sklearn.ensemble import RandomForestClassifier\n",
    "start = time.time() \n",
    "model_ml = RandomForestClassifier(n_estimators=200, n_jobs=-1)\n",
    "print('starting mmodel')\n",
    "model_ml = model_ml.fit( X_train ,y_train)\n",
    "\n",
    "end = time.time()\n",
    "\n",
    "elapsed_training = end - start\n",
    "print('end..')\n",
    "\n"
   ]
  },
  {
   "cell_type": "code",
   "execution_count": 26,
   "metadata": {
    "collapsed": true
   },
   "outputs": [],
   "source": [
    "result = model_ml.predict( X_test )"
   ]
  },
  {
   "cell_type": "code",
   "execution_count": 27,
   "metadata": {},
   "outputs": [
    {
     "name": "stdout",
     "output_type": "stream",
     "text": [
      "[[17509   143   183   136]\n",
      " [  966  6896   401   456]\n",
      " [  677   190  9506   755]\n",
      " [  815   235   832  8342]]\n",
      "             precision    recall  f1-score   support\n",
      "\n",
      "          1       0.88      0.97      0.92     17971\n",
      "          2       0.92      0.79      0.85      8719\n",
      "          3       0.87      0.85      0.86     11128\n",
      "          4       0.86      0.82      0.84     10224\n",
      "\n",
      "avg / total       0.88      0.88      0.88     48042\n",
      "\n"
     ]
    }
   ],
   "source": [
    "from sklearn.metrics import confusion_matrix, classification_report\n",
    "\n",
    "print(confusion_matrix(y_test, result))\n",
    "print(classification_report(y_test, result))"
   ]
  },
  {
   "cell_type": "code",
   "execution_count": 33,
   "metadata": {},
   "outputs": [
    {
     "name": "stdout",
     "output_type": "stream",
     "text": [
      "starting mmodel...without lower\n",
      "end..\n",
      "[[17301   225   215   230]\n",
      " [ 1908  5867   433   511]\n",
      " [ 1482   221  8689   736]\n",
      " [ 1451   267   910  7596]]\n",
      "             precision    recall  f1-score   support\n",
      "\n",
      "          1       0.78      0.96      0.86     17971\n",
      "          2       0.89      0.67      0.77      8719\n",
      "          3       0.85      0.78      0.81     11128\n",
      "          4       0.84      0.74      0.79     10224\n",
      "\n",
      "avg / total       0.83      0.82      0.82     48042\n",
      "\n"
     ]
    }
   ],
   "source": [
    "from sklearn.ensemble import RandomForestClassifier\n",
    "from sklearn.metrics import confusion_matrix, classification_report\n",
    "start = time.time() \n",
    "model_ml = RandomForestClassifier(n_estimators=200, n_jobs=-1)\n",
    "print('starting mmodel...without lower')\n",
    "model_ml = model_ml.fit( X_train ,y_train)\n",
    "\n",
    "end = time.time()\n",
    "\n",
    "elapsed_training = end - start\n",
    "print('end..')\n",
    "result = model_ml.predict( X_test )\n",
    "\n",
    "print(confusion_matrix(y_test, result))\n",
    "print(classification_report(y_test, result))"
   ]
  },
  {
   "cell_type": "code",
   "execution_count": 39,
   "metadata": {},
   "outputs": [
    {
     "name": "stdout",
     "output_type": "stream",
     "text": [
      "starting mmodel...without lower\n",
      "end..\n",
      "[[16614   504   414   439]\n",
      " [ 1061  6753   405   500]\n",
      " [  800   287  9184   857]\n",
      " [  948   324   907  8045]]\n",
      "             precision    recall  f1-score   support\n",
      "\n",
      "          1       0.86      0.92      0.89     17971\n",
      "          2       0.86      0.77      0.81      8719\n",
      "          3       0.84      0.83      0.83     11128\n",
      "          4       0.82      0.79      0.80     10224\n",
      "\n",
      "avg / total       0.84      0.85      0.84     48042\n",
      "\n"
     ]
    }
   ],
   "source": [
    "from sklearn.ensemble import GradientBoostingClassifier\n",
    "from sklearn.metrics import confusion_matrix, classification_report\n",
    "start = time.time() \n",
    "model_ml = GradientBoostingClassifier(n_estimators=100)\n",
    "print('starting mmodel...without lower')\n",
    "model_ml = model_ml.fit( X_train ,y_train)\n",
    "\n",
    "end = time.time()\n",
    "\n",
    "elapsed_training = end - start\n",
    "print('end..')\n",
    "result = model_ml.predict( X_test )\n",
    "\n",
    "print(confusion_matrix(y_test, result))\n",
    "print(classification_report(y_test, result))"
   ]
  },
  {
   "cell_type": "code",
   "execution_count": 40,
   "metadata": {},
   "outputs": [
    {
     "name": "stdout",
     "output_type": "stream",
     "text": [
      "starting mmodel.. lower\n",
      "end..\n",
      "[[17198   246   252   275]\n",
      " [  992  6725   463   539]\n",
      " [  833   274  9075   946]\n",
      " [  909   301   996  8018]]\n",
      "             precision    recall  f1-score   support\n",
      "\n",
      "          1       0.86      0.96      0.91     17971\n",
      "          2       0.89      0.77      0.83      8719\n",
      "          3       0.84      0.82      0.83     11128\n",
      "          4       0.82      0.78      0.80     10224\n",
      "\n",
      "avg / total       0.85      0.85      0.85     48042\n",
      "\n"
     ]
    }
   ],
   "source": [
    "from sklearn.ensemble import BaggingClassifier\n",
    "from sklearn.metrics import confusion_matrix, classification_report\n",
    "start = time.time() \n",
    "model_ml = BaggingClassifier(n_estimators=100,n_jobs = -1)\n",
    "print('starting mmodel.. lower')\n",
    "model_ml = model_ml.fit( X_train ,y_train)\n",
    "\n",
    "end = time.time()\n",
    "\n",
    "elapsed_training = end - start\n",
    "print('end..')\n",
    "result = model_ml.predict( X_test )\n",
    "\n",
    "print(confusion_matrix(y_test, result))\n",
    "print(classification_report(y_test, result))"
   ]
  },
  {
   "cell_type": "code",
   "execution_count": 13,
   "metadata": {},
   "outputs": [
    {
     "name": "stdout",
     "output_type": "stream",
     "text": [
      "starting mmodel...without normalization\n",
      "end..\n",
      "[[17492   122   199   158]\n",
      " [  928  6881   542   368]\n",
      " [  701   182  9655   590]\n",
      " [  817   170  1065  8172]]\n",
      "             precision    recall  f1-score   support\n",
      "\n",
      "          1       0.88      0.97      0.92     17971\n",
      "          2       0.94      0.79      0.86      8719\n",
      "          3       0.84      0.87      0.85     11128\n",
      "          4       0.88      0.80      0.84     10224\n",
      "\n",
      "avg / total       0.88      0.88      0.88     48042\n",
      "\n"
     ]
    }
   ],
   "source": [
    "from sklearn.ensemble import RandomForestClassifier\n",
    "from sklearn.metrics import confusion_matrix, classification_report\n",
    "start = time.time() \n",
    "model_ml = RandomForestClassifier(n_estimators=100, n_jobs=-1)\n",
    "print('starting mmodel...without normalization')\n",
    "model_ml = model_ml.fit( X_train ,y_train)\n",
    "\n",
    "end = time.time()\n",
    "\n",
    "elapsed_training = end - start\n",
    "print('end..')\n",
    "result = model_ml.predict( X_test )\n",
    "\n",
    "print(confusion_matrix(y_test, result))\n",
    "print(classification_report(y_test, result))"
   ]
  },
  {
   "cell_type": "code",
   "execution_count": 16,
   "metadata": {},
   "outputs": [
    {
     "name": "stdout",
     "output_type": "stream",
     "text": [
      "starting mmodel...with normalization\n",
      "end..\n",
      "[[17484   114   204   169]\n",
      " [  902  6891   528   398]\n",
      " [  685   178  9650   615]\n",
      " [  835   194  1046  8149]]\n",
      "             precision    recall  f1-score   support\n",
      "\n",
      "          1       0.88      0.97      0.92     17971\n",
      "          2       0.93      0.79      0.86      8719\n",
      "          3       0.84      0.87      0.86     11128\n",
      "          4       0.87      0.80      0.83     10224\n",
      "\n",
      "avg / total       0.88      0.88      0.88     48042\n",
      "\n"
     ]
    }
   ],
   "source": [
    "from sklearn.ensemble import RandomForestClassifier\n",
    "from sklearn.metrics import confusion_matrix, classification_report\n",
    "start = time.time() \n",
    "model_ml = RandomForestClassifier(n_estimators=100, n_jobs=-1)\n",
    "print('starting mmodel...with normalization')\n",
    "model_ml = model_ml.fit( X_train ,y_train)\n",
    "\n",
    "end = time.time()\n",
    "\n",
    "elapsed_training = end - start\n",
    "print('end..')\n",
    "result = model_ml.predict( X_test )\n",
    "\n",
    "print(confusion_matrix(y_test, result))\n",
    "print(classification_report(y_test, result))"
   ]
  },
  {
   "cell_type": "code",
   "execution_count": null,
   "metadata": {
    "collapsed": true
   },
   "outputs": [],
   "source": []
  }
 ],
 "metadata": {
  "kernelspec": {
   "display_name": "Python 3",
   "language": "python",
   "name": "python3"
  },
  "language_info": {
   "codemirror_mode": {
    "name": "ipython",
    "version": 3
   },
   "file_extension": ".py",
   "mimetype": "text/x-python",
   "name": "python",
   "nbconvert_exporter": "python",
   "pygments_lexer": "ipython3",
   "version": "3.6.1"
  }
 },
 "nbformat": 4,
 "nbformat_minor": 2
}
