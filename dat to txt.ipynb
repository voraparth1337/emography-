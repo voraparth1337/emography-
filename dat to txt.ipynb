{
 "cells": [
  {
   "cell_type": "code",
   "execution_count": 2,
   "metadata": {
    "collapsed": true
   },
   "outputs": [],
   "source": [
    "import pandas as pd"
   ]
  },
  {
   "cell_type": "code",
   "execution_count": 11,
   "metadata": {
    "collapsed": true
   },
   "outputs": [],
   "source": [
    "file_names = [\n",
    "    'tweetsTest1.dat',\n",
    "    'tweetsTest2.dat',\n",
    "    'tweetsTest3.dat',\n",
    "    'tweetsTest4.dat',\n",
    "]\n",
    "\n",
    "tweets_train = pd.DataFrame()\n",
    "\n",
    "for index,files in enumerate(file_names):\n",
    "    f = open(files,'r')\n",
    "    lines = [line.strip() for line in f]\n",
    "    label = [(index+1) for i in range(len(lines))]\n",
    "    df = pd.DataFrame()\n",
    "    df['text'] = lines\n",
    "    df['label'] = label\n",
    "    tweets_train = tweets_train.append(df)"
   ]
  },
  {
   "cell_type": "code",
   "execution_count": 12,
   "metadata": {
    "collapsed": true
   },
   "outputs": [],
   "source": [
    "file_names = [\n",
    "    'happy_active.txt',\n",
    "    'happy_inactive.txt',\n",
    "    'unhappy_active.txt',\n",
    "    'unhappy_inactive.txt',\n",
    "]\n",
    "\n",
    "\n",
    "for index,files in enumerate(file_names):\n",
    "    f = open(files,'r')\n",
    "    lines = [line.strip() for line in f]\n",
    "    label = [(index+1) for i in range(len(lines))]\n",
    "    df = pd.DataFrame()\n",
    "    df['text'] = lines\n",
    "    df['label'] = label\n",
    "    tweets_train = tweets_train.append(df)"
   ]
  },
  {
   "cell_type": "code",
   "execution_count": 27,
   "metadata": {
    "collapsed": true
   },
   "outputs": [],
   "source": [
    "tweets_train = tweets_train.sample(frac = 1)\n",
    "tweets_train.to_csv('tweets_labelled',index=False)"
   ]
  },
  {
   "cell_type": "code",
   "execution_count": 3,
   "metadata": {},
   "outputs": [],
   "source": [
    "df = pd.read_csv('tweets_labelled')"
   ]
  },
  {
   "cell_type": "code",
   "execution_count": 4,
   "metadata": {},
   "outputs": [
    {
     "data": {
      "text/html": [
       "<div>\n",
       "<style>\n",
       "    .dataframe thead tr:only-child th {\n",
       "        text-align: right;\n",
       "    }\n",
       "\n",
       "    .dataframe thead th {\n",
       "        text-align: left;\n",
       "    }\n",
       "\n",
       "    .dataframe tbody tr th {\n",
       "        vertical-align: top;\n",
       "    }\n",
       "</style>\n",
       "<table border=\"1\" class=\"dataframe\">\n",
       "  <thead>\n",
       "    <tr style=\"text-align: right;\">\n",
       "      <th></th>\n",
       "      <th>text</th>\n",
       "      <th>label</th>\n",
       "    </tr>\n",
       "  </thead>\n",
       "  <tbody>\n",
       "    <tr>\n",
       "      <th>0</th>\n",
       "      <td>Sorry for the #SAD news...Waka Flocka Brother ...</td>\n",
       "      <td>4</td>\n",
       "    </tr>\n",
       "    <tr>\n",
       "      <th>1</th>\n",
       "      <td>you no longer hear people talk about the Ameri...</td>\n",
       "      <td>4</td>\n",
       "    </tr>\n",
       "    <tr>\n",
       "      <th>2</th>\n",
       "      <td>RT UID We love you John. Thank you for the mus...</td>\n",
       "      <td>2</td>\n",
       "    </tr>\n",
       "    <tr>\n",
       "      <th>3</th>\n",
       "      <td>When your Netflix doesn't work #annoyed</td>\n",
       "      <td>3</td>\n",
       "    </tr>\n",
       "    <tr>\n",
       "      <th>4</th>\n",
       "      <td>#happy #winter #smile #blonde #pink #vs  QUESTION</td>\n",
       "      <td>1</td>\n",
       "    </tr>\n",
       "  </tbody>\n",
       "</table>\n",
       "</div>"
      ],
      "text/plain": [
       "                                                text  label\n",
       "0  Sorry for the #SAD news...Waka Flocka Brother ...      4\n",
       "1  you no longer hear people talk about the Ameri...      4\n",
       "2  RT UID We love you John. Thank you for the mus...      2\n",
       "3            When your Netflix doesn't work #annoyed      3\n",
       "4  #happy #winter #smile #blonde #pink #vs  QUESTION      1"
      ]
     },
     "execution_count": 4,
     "metadata": {},
     "output_type": "execute_result"
    }
   ],
   "source": [
    "df.head()"
   ]
  },
  {
   "cell_type": "code",
   "execution_count": 6,
   "metadata": {
    "collapsed": true
   },
   "outputs": [],
   "source": [
    "f = open('tweets.txt','a')\n",
    "for i in range(160138):\n",
    "    text = df['text'].iloc[i].lower().strip() + '\\n'\n",
    "    f.write(text)"
   ]
  },
  {
   "cell_type": "code",
   "execution_count": null,
   "metadata": {
    "collapsed": true
   },
   "outputs": [],
   "source": []
  }
 ],
 "metadata": {
  "kernelspec": {
   "display_name": "Python 2",
   "language": "python",
   "name": "python2"
  },
  "language_info": {
   "codemirror_mode": {
    "name": "ipython",
    "version": 2
   },
   "file_extension": ".py",
   "mimetype": "text/x-python",
   "name": "python",
   "nbconvert_exporter": "python",
   "pygments_lexer": "ipython2",
   "version": "2.7.13"
  }
 },
 "nbformat": 4,
 "nbformat_minor": 2
}
