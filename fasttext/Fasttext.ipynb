{
 "cells": [
  {
   "cell_type": "code",
   "execution_count": 30,
   "metadata": {},
   "outputs": [],
   "source": [
    "from gensim.models import Word2Vec\n",
    "from gensim.models import KeyedVectors\n",
    "import pandas as pd\n",
    "import re\n",
    "from nltk.corpus import stopwords\n",
    "import nltk.data\n",
    "from nltk.tokenize import word_tokenize\n",
    "import time\n",
    "import numpy as np\n",
    "from __future__ import absolute_import"
   ]
  },
  {
   "cell_type": "code",
   "execution_count": 32,
   "metadata": {},
   "outputs": [],
   "source": [
    "from gensim.models.wrappers import FastText\n",
    "\n",
    "model = FastText.load_fasttext_format('model_1_skipgram.bin', encoding='latin1')\n"
   ]
  },
  {
   "cell_type": "code",
   "execution_count": 35,
   "metadata": {},
   "outputs": [],
   "source": [
    "tweets = pd.read_csv('../tweets_labelled',skipinitialspace=True, skip_blank_lines=True,encoding='latin1')"
   ]
  },
  {
   "cell_type": "code",
   "execution_count": 36,
   "metadata": {
    "collapsed": true
   },
   "outputs": [],
   "source": [
    "index2word_set = set(model.wv.index2word)"
   ]
  },
  {
   "cell_type": "code",
   "execution_count": 38,
   "metadata": {
    "collapsed": true
   },
   "outputs": [],
   "source": [
    "def clean_tweets( text ):\n",
    "    # clean_1 = BeautifulSoup(text,\"lxml\").get_text()\n",
    "    clean_2 = re.sub(\"[^a-zA-Z]\",\" \", text).lower().strip()\n",
    "    clean_3 = word_tokenize(clean_2)\n",
    "    stop_words = set(stopwords.words(\"english\")) - set(['and','or','not'])\n",
    "    words = [w for w in clean_3 if not w in stop_words]\n",
    "    return words\n"
   ]
  },
  {
   "cell_type": "code",
   "execution_count": 41,
   "metadata": {
    "collapsed": true
   },
   "outputs": [],
   "source": [
    "num_features = 100\n",
    "\n",
    "def makeFeatureVec(words, num_features):\n",
    "    global index2word_set\n",
    "    featureVec = np.zeros((num_features,),dtype=\"float32\")\n",
    "    nwords = 0.00000000001\n",
    "    for word in words:\n",
    "        # if the word is in wordset then add to feature vec\n",
    "        if word in index2word_set: \n",
    "            nwords = nwords + 1.\n",
    "            featureVec = np.add(featureVec,model[word])\n",
    "    \n",
    "    featureVec = np.divide(featureVec,nwords)\n",
    "    return featureVec\n",
    "\n",
    "def get_average_feature_vectors( tweets, num_feature ):\n",
    "    counter = 0\n",
    "    tweetFeatureVecs = np.zeros((len(tweets),num_features),dtype=\"float32\")\n",
    "    \n",
    "    for tweet in tweets:\n",
    "        tweetFeatureVecs[counter] = makeFeatureVec(tweet, num_features)\n",
    "        counter += 1\n",
    "    \n",
    "    return tweetFeatureVecs"
   ]
  },
  {
   "cell_type": "code",
   "execution_count": 42,
   "metadata": {},
   "outputs": [],
   "source": [
    "np.seterr(divide='ignore', invalid='ignore')\n",
    "start = time.time()\n",
    "\n",
    "cleaned_tweets = []\n",
    "for text in tweets['text']:\n",
    "    cleaned_tweets.append( clean_tweets(text))\n",
    "    \n",
    "DataVecs = get_average_feature_vectors( cleaned_tweets, num_features )\n",
    "\n",
    "end = time.time()\n",
    "\n",
    "elapsed_cleaning = end - start "
   ]
  },
  {
   "cell_type": "code",
   "execution_count": 43,
   "metadata": {
    "collapsed": true
   },
   "outputs": [],
   "source": [
    "from sklearn.model_selection import train_test_split\n",
    "X_train, X_test, y_train, y_test = train_test_split(DataVecs, tweets['label'],random_state=10,test_size = 0.3 )"
   ]
  },
  {
   "cell_type": "code",
   "execution_count": 44,
   "metadata": {},
   "outputs": [
    {
     "name": "stdout",
     "output_type": "stream",
     "text": [
      "starting mmodel\n",
      "end..\n"
     ]
    }
   ],
   "source": [
    "from sklearn.ensemble import RandomForestClassifier\n",
    "start = time.time() \n",
    "model_ml = RandomForestClassifier(n_estimators=200, n_jobs=-1)\n",
    "print('starting mmodel')\n",
    "model_ml = model_ml.fit( X_train ,y_train)\n",
    "\n",
    "end = time.time()\n",
    "\n",
    "elapsed_training = end - start\n",
    "print('end..')\n"
   ]
  },
  {
   "cell_type": "code",
   "execution_count": 45,
   "metadata": {
    "collapsed": true
   },
   "outputs": [],
   "source": [
    "result = model_ml.predict( X_test )"
   ]
  },
  {
   "cell_type": "code",
   "execution_count": 46,
   "metadata": {},
   "outputs": [
    {
     "name": "stdout",
     "output_type": "stream",
     "text": [
      "[[17436   155   239   141]\n",
      " [  852  7055   467   345]\n",
      " [  659   189  9682   598]\n",
      " [  723   207   940  8354]]\n",
      "             precision    recall  f1-score   support\n",
      "\n",
      "          1       0.89      0.97      0.93     17971\n",
      "          2       0.93      0.81      0.86      8719\n",
      "          3       0.85      0.87      0.86     11128\n",
      "          4       0.89      0.82      0.85     10224\n",
      "\n",
      "avg / total       0.89      0.89      0.88     48042\n",
      "\n"
     ]
    }
   ],
   "source": [
    "from sklearn.metrics import confusion_matrix, classification_report\n",
    "\n",
    "print(confusion_matrix(y_test, result))\n",
    "print(classification_report(y_test, result))"
   ]
  },
  {
   "cell_type": "code",
   "execution_count": 47,
   "metadata": {
    "collapsed": true
   },
   "outputs": [],
   "source": [
    "from gensim.models.wrappers import FastText\n",
    "\n",
    "model = FastText.load_fasttext_format('model_2_skipgram.bin', encoding='latin1')\n"
   ]
  },
  {
   "cell_type": "code",
   "execution_count": 48,
   "metadata": {
    "collapsed": true
   },
   "outputs": [],
   "source": [
    "tweets = pd.read_csv('../tweets_labelled',skipinitialspace=True, skip_blank_lines=True,encoding='latin1')\n",
    "index2word_set = set(model.wv.index2word)\n",
    "\n",
    "def clean_tweets( text ):\n",
    "    # clean_1 = BeautifulSoup(text,\"lxml\").get_text()\n",
    "    clean_2 = re.sub(\"[^a-zA-Z]\",\" \", text).lower().strip()\n",
    "    clean_3 = word_tokenize(clean_2)\n",
    "    stop_words = set(stopwords.words(\"english\")) - set(['and','or','not'])\n",
    "    words = [w for w in clean_3 if not w in stop_words]\n",
    "    return words\n",
    "\n",
    "num_features = 400\n",
    "\n",
    "def makeFeatureVec(words, num_features):\n",
    "    global index2word_set\n",
    "    featureVec = np.zeros((num_features,),dtype=\"float32\")\n",
    "    nwords = 0.00000000001\n",
    "    for word in words:\n",
    "        # if the word is in wordset then add to feature vec\n",
    "        if word in index2word_set: \n",
    "            nwords = nwords + 1.\n",
    "            featureVec = np.add(featureVec,model[word])\n",
    "    \n",
    "    featureVec = np.divide(featureVec,nwords)\n",
    "    return featureVec\n",
    "\n",
    "def get_average_feature_vectors( tweets, num_feature ):\n",
    "    counter = 0\n",
    "    tweetFeatureVecs = np.zeros((len(tweets),num_features),dtype=\"float32\")\n",
    "    \n",
    "    for tweet in tweets:\n",
    "        tweetFeatureVecs[counter] = makeFeatureVec(tweet, num_features)\n",
    "        counter += 1\n",
    "    \n",
    "    return tweetFeatureVecs\n",
    "\n",
    "np.seterr(divide='ignore', invalid='ignore')\n",
    "start = time.time()\n",
    "\n",
    "cleaned_tweets = []\n",
    "for text in tweets['text']:\n",
    "    cleaned_tweets.append( clean_tweets(text))\n",
    "    \n",
    "DataVecs = get_average_feature_vectors( cleaned_tweets, num_features )\n",
    "\n",
    "end = time.time()\n",
    "\n",
    "elapsed_cleaning = end - start \n",
    "\n",
    "from sklearn.model_selection import train_test_split\n",
    "X_train, X_test, y_train, y_test = train_test_split(DataVecs, tweets['label'],random_state=10,test_size = 0.3 )"
   ]
  },
  {
   "cell_type": "code",
   "execution_count": 49,
   "metadata": {},
   "outputs": [
    {
     "name": "stdout",
     "output_type": "stream",
     "text": [
      "starting mmodel\n",
      "end..\n",
      "[[17600    70   213    88]\n",
      " [  797  7043   596   283]\n",
      " [  572   107 10061   388]\n",
      " [  617   108   954  8545]]\n",
      "             precision    recall  f1-score   support\n",
      "\n",
      "          1       0.90      0.98      0.94     17971\n",
      "          2       0.96      0.81      0.88      8719\n",
      "          3       0.85      0.90      0.88     11128\n",
      "          4       0.92      0.84      0.88     10224\n",
      "\n",
      "avg / total       0.90      0.90      0.90     48042\n",
      "\n"
     ]
    }
   ],
   "source": [
    "from sklearn.ensemble import RandomForestClassifier\n",
    "start = time.time() \n",
    "model_ml = RandomForestClassifier(n_estimators=200, n_jobs=-1)\n",
    "print('starting mmodel')\n",
    "model_ml = model_ml.fit( X_train ,y_train)\n",
    "\n",
    "end = time.time()\n",
    "\n",
    "elapsed_training = end - start\n",
    "print('end..')\n",
    "\n",
    "result = model_ml.predict( X_test )\n",
    "\n",
    "from sklearn.metrics import confusion_matrix, classification_report\n",
    "\n",
    "print(confusion_matrix(y_test, result))\n",
    "print(classification_report(y_test, result))"
   ]
  },
  {
   "cell_type": "code",
   "execution_count": null,
   "metadata": {
    "collapsed": true
   },
   "outputs": [],
   "source": []
  }
 ],
 "metadata": {
  "kernelspec": {
   "display_name": "Python 3",
   "language": "python",
   "name": "python3"
  },
  "language_info": {
   "codemirror_mode": {
    "name": "ipython",
    "version": 3
   },
   "file_extension": ".py",
   "mimetype": "text/x-python",
   "name": "python",
   "nbconvert_exporter": "python",
   "pygments_lexer": "ipython3",
   "version": "3.6.1"
  }
 },
 "nbformat": 4,
 "nbformat_minor": 2
}
