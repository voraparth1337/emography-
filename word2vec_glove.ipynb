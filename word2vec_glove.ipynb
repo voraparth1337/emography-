{
 "cells": [
  {
   "cell_type": "code",
   "execution_count": 138,
   "metadata": {
    "collapsed": true
   },
   "outputs": [],
   "source": [
    "from gensim.models import Word2Vec\n",
    "from gensim.models import KeyedVectors\n",
    "import pandas as pd\n",
    "from bs4 import BeautifulSoup\n",
    "import re\n",
    "from nltk.corpus import stopwords\n",
    "import nltk.data\n",
    "from nltk.tokenize import word_tokenize\n",
    "import time"
   ]
  },
  {
   "cell_type": "code",
   "execution_count": 57,
   "metadata": {
    "collapsed": true
   },
   "outputs": [],
   "source": [
    "model = KeyedVectors.load_word2vec_format(\"glove_wv_twitter_200d.txt\", binary=False)  "
   ]
  },
  {
   "cell_type": "code",
   "execution_count": 58,
   "metadata": {
    "collapsed": true
   },
   "outputs": [],
   "source": [
    "model.init_sims(replace=True)"
   ]
  },
  {
   "cell_type": "code",
   "execution_count": 5,
   "metadata": {
    "collapsed": true
   },
   "outputs": [],
   "source": [
    "model.save('27B_100d_twitter_w2v_model')"
   ]
  },
  {
   "cell_type": "code",
   "execution_count": 8,
   "metadata": {},
   "outputs": [],
   "source": [
    "model.save_word2vec_format('27B_100d_twitter_w2v_model.bin', binary=True)"
   ]
  },
  {
   "cell_type": "code",
   "execution_count": 9,
   "metadata": {
    "collapsed": true
   },
   "outputs": [],
   "source": [
    "model = KeyedVectors.load_word2vec_format(\"27B_100d_twitter_w2v_model.bin\", binary=True)\n",
    "model.init_sims(replace=True)"
   ]
  },
  {
   "cell_type": "code",
   "execution_count": 12,
   "metadata": {},
   "outputs": [
    {
     "data": {
      "text/html": [
       "<div>\n",
       "<style>\n",
       "    .dataframe thead tr:only-child th {\n",
       "        text-align: right;\n",
       "    }\n",
       "\n",
       "    .dataframe thead th {\n",
       "        text-align: left;\n",
       "    }\n",
       "\n",
       "    .dataframe tbody tr th {\n",
       "        vertical-align: top;\n",
       "    }\n",
       "</style>\n",
       "<table border=\"1\" class=\"dataframe\">\n",
       "  <thead>\n",
       "    <tr style=\"text-align: right;\">\n",
       "      <th></th>\n",
       "      <th>emotion</th>\n",
       "      <th>id</th>\n",
       "      <th>text</th>\n",
       "    </tr>\n",
       "  </thead>\n",
       "  <tbody>\n",
       "    <tr>\n",
       "      <th>0</th>\n",
       "      <td>1</td>\n",
       "      <td>0</td>\n",
       "      <td>HAPPY ACTIVE\\n</td>\n",
       "    </tr>\n",
       "    <tr>\n",
       "      <th>1</th>\n",
       "      <td>1</td>\n",
       "      <td>1</td>\n",
       "      <td>RT UID Thank you Lord for bringing me someone ...</td>\n",
       "    </tr>\n",
       "    <tr>\n",
       "      <th>2</th>\n",
       "      <td>1</td>\n",
       "      <td>2</td>\n",
       "      <td>#im #happy #again #silly #happy #me # #buzzin ...</td>\n",
       "    </tr>\n",
       "    <tr>\n",
       "      <th>3</th>\n",
       "      <td>1</td>\n",
       "      <td>3</td>\n",
       "      <td>We Can Be Anything We Want To In Life, Literal...</td>\n",
       "    </tr>\n",
       "    <tr>\n",
       "      <th>4</th>\n",
       "      <td>1</td>\n",
       "      <td>4</td>\n",
       "      <td>Cooked spag for eomma.  ANGRYICON #happy #birt...</td>\n",
       "    </tr>\n",
       "  </tbody>\n",
       "</table>\n",
       "</div>"
      ],
      "text/plain": [
       "   emotion  id                                               text\n",
       "0        1   0                                     HAPPY ACTIVE\\n\n",
       "1        1   1  RT UID Thank you Lord for bringing me someone ...\n",
       "2        1   2  #im #happy #again #silly #happy #me # #buzzin ...\n",
       "3        1   3  We Can Be Anything We Want To In Life, Literal...\n",
       "4        1   4  Cooked spag for eomma.  ANGRYICON #happy #birt..."
      ]
     },
     "execution_count": 12,
     "metadata": {},
     "output_type": "execute_result"
    }
   ],
   "source": [
    "import numpy as np\n",
    "f = open('happy_active.txt','r')\n",
    "lines = [line for line in f]\n",
    "one = np.ones(len(lines),dtype=np.int)\n",
    "happy_active = pd.DataFrame(data={\"id\":list(range(len(lines))), \"text\":lines, \"emotion\":one})\n",
    "happy_active.head()"
   ]
  },
  {
   "cell_type": "code",
   "execution_count": 13,
   "metadata": {},
   "outputs": [
    {
     "data": {
      "text/html": [
       "<div>\n",
       "<style>\n",
       "    .dataframe thead tr:only-child th {\n",
       "        text-align: right;\n",
       "    }\n",
       "\n",
       "    .dataframe thead th {\n",
       "        text-align: left;\n",
       "    }\n",
       "\n",
       "    .dataframe tbody tr th {\n",
       "        vertical-align: top;\n",
       "    }\n",
       "</style>\n",
       "<table border=\"1\" class=\"dataframe\">\n",
       "  <thead>\n",
       "    <tr style=\"text-align: right;\">\n",
       "      <th></th>\n",
       "      <th>emotion</th>\n",
       "      <th>id</th>\n",
       "      <th>text</th>\n",
       "    </tr>\n",
       "  </thead>\n",
       "  <tbody>\n",
       "    <tr>\n",
       "      <th>0</th>\n",
       "      <td>2</td>\n",
       "      <td>0</td>\n",
       "      <td>HAPPY INACTIVE</td>\n",
       "    </tr>\n",
       "    <tr>\n",
       "      <th>1</th>\n",
       "      <td>2</td>\n",
       "      <td>1</td>\n",
       "      <td>Feeling obligated to #instagram this cause eve...</td>\n",
       "    </tr>\n",
       "    <tr>\n",
       "      <th>2</th>\n",
       "      <td>2</td>\n",
       "      <td>2</td>\n",
       "      <td>Tired little puppy... #chihuahua #papillon #ch...</td>\n",
       "    </tr>\n",
       "    <tr>\n",
       "      <th>3</th>\n",
       "      <td>2</td>\n",
       "      <td>3</td>\n",
       "      <td>UID UID bercanda ja' #peace</td>\n",
       "    </tr>\n",
       "    <tr>\n",
       "      <th>4</th>\n",
       "      <td>2</td>\n",
       "      <td>4</td>\n",
       "      <td>Set #peace of mind as your highest goal, and o...</td>\n",
       "    </tr>\n",
       "  </tbody>\n",
       "</table>\n",
       "</div>"
      ],
      "text/plain": [
       "   emotion  id                                               text\n",
       "0        2   0                                     HAPPY INACTIVE\n",
       "1        2   1  Feeling obligated to #instagram this cause eve...\n",
       "2        2   2  Tired little puppy... #chihuahua #papillon #ch...\n",
       "3        2   3                        UID UID bercanda ja' #peace\n",
       "4        2   4  Set #peace of mind as your highest goal, and o..."
      ]
     },
     "execution_count": 13,
     "metadata": {},
     "output_type": "execute_result"
    }
   ],
   "source": [
    "f = open('happy_inactive.txt','r')\n",
    "lines = [line.strip() for line in f]\n",
    "two = np.ones(len(lines), dtype=np.int)\n",
    "two = np.multiply(two,2)\n",
    "happy_inactive = pd.DataFrame(data={\"id\":list(range(len(lines))), \"text\":lines, \"emotion\":two})\n",
    "happy_inactive.head()"
   ]
  },
  {
   "cell_type": "code",
   "execution_count": 15,
   "metadata": {},
   "outputs": [
    {
     "data": {
      "text/html": [
       "<div>\n",
       "<style>\n",
       "    .dataframe thead tr:only-child th {\n",
       "        text-align: right;\n",
       "    }\n",
       "\n",
       "    .dataframe thead th {\n",
       "        text-align: left;\n",
       "    }\n",
       "\n",
       "    .dataframe tbody tr th {\n",
       "        vertical-align: top;\n",
       "    }\n",
       "</style>\n",
       "<table border=\"1\" class=\"dataframe\">\n",
       "  <thead>\n",
       "    <tr style=\"text-align: right;\">\n",
       "      <th></th>\n",
       "      <th>emotion</th>\n",
       "      <th>id</th>\n",
       "      <th>text</th>\n",
       "    </tr>\n",
       "  </thead>\n",
       "  <tbody>\n",
       "    <tr>\n",
       "      <th>0</th>\n",
       "      <td>3</td>\n",
       "      <td>0</td>\n",
       "      <td>UNHAPPY ACTIVE</td>\n",
       "    </tr>\n",
       "    <tr>\n",
       "      <th>1</th>\n",
       "      <td>3</td>\n",
       "      <td>1</td>\n",
       "      <td>#nervous #kpopprincess</td>\n",
       "    </tr>\n",
       "    <tr>\n",
       "      <th>2</th>\n",
       "      <td>3</td>\n",
       "      <td>2</td>\n",
       "      <td>Finally done with science #stressed</td>\n",
       "    </tr>\n",
       "    <tr>\n",
       "      <th>3</th>\n",
       "      <td>3</td>\n",
       "      <td>3</td>\n",
       "      <td>I miss my best friend in the whole wide world....</td>\n",
       "    </tr>\n",
       "    <tr>\n",
       "      <th>4</th>\n",
       "      <td>3</td>\n",
       "      <td>4</td>\n",
       "      <td>Interview today #nervous</td>\n",
       "    </tr>\n",
       "  </tbody>\n",
       "</table>\n",
       "</div>"
      ],
      "text/plain": [
       "   emotion  id                                               text\n",
       "0        3   0                                     UNHAPPY ACTIVE\n",
       "1        3   1                             #nervous #kpopprincess\n",
       "2        3   2                Finally done with science #stressed\n",
       "3        3   3  I miss my best friend in the whole wide world....\n",
       "4        3   4                           Interview today #nervous"
      ]
     },
     "execution_count": 15,
     "metadata": {},
     "output_type": "execute_result"
    }
   ],
   "source": [
    "f = open('unhappy_active.txt','r')\n",
    "lines = [line.strip() for line in f]\n",
    "three = np.ones(len(lines),dtype=np.int)\n",
    "three = np.multiply(three,3)\n",
    "unhappy_active = pd.DataFrame(data={\"id\":list(range(len(lines))), \"text\":lines, \"emotion\":three})\n",
    "unhappy_active.head()"
   ]
  },
  {
   "cell_type": "code",
   "execution_count": 16,
   "metadata": {},
   "outputs": [
    {
     "data": {
      "text/html": [
       "<div>\n",
       "<style>\n",
       "    .dataframe thead tr:only-child th {\n",
       "        text-align: right;\n",
       "    }\n",
       "\n",
       "    .dataframe thead th {\n",
       "        text-align: left;\n",
       "    }\n",
       "\n",
       "    .dataframe tbody tr th {\n",
       "        vertical-align: top;\n",
       "    }\n",
       "</style>\n",
       "<table border=\"1\" class=\"dataframe\">\n",
       "  <thead>\n",
       "    <tr style=\"text-align: right;\">\n",
       "      <th></th>\n",
       "      <th>emotion</th>\n",
       "      <th>id</th>\n",
       "      <th>text</th>\n",
       "    </tr>\n",
       "  </thead>\n",
       "  <tbody>\n",
       "    <tr>\n",
       "      <th>0</th>\n",
       "      <td>4</td>\n",
       "      <td>0</td>\n",
       "      <td>#bored #home #saturday #morning #playing #ps4 ...</td>\n",
       "    </tr>\n",
       "    <tr>\n",
       "      <th>1</th>\n",
       "      <td>4</td>\n",
       "      <td>1</td>\n",
       "      <td>Feeling very posey tonight  ANGRYICON it doesn...</td>\n",
       "    </tr>\n",
       "    <tr>\n",
       "      <th>2</th>\n",
       "      <td>4</td>\n",
       "      <td>2</td>\n",
       "      <td>Fim de semana, porque  que ests a passar to...</td>\n",
       "    </tr>\n",
       "    <tr>\n",
       "      <th>3</th>\n",
       "      <td>4</td>\n",
       "      <td>3</td>\n",
       "      <td>Dis I'd de first sat I've watched xfactor an J...</td>\n",
       "    </tr>\n",
       "    <tr>\n",
       "      <th>4</th>\n",
       "      <td>4</td>\n",
       "      <td>4</td>\n",
       "      <td>RT UID My brother just left me now I'm here wi...</td>\n",
       "    </tr>\n",
       "  </tbody>\n",
       "</table>\n",
       "</div>"
      ],
      "text/plain": [
       "   emotion  id                                               text\n",
       "0        4   0  #bored #home #saturday #morning #playing #ps4 ...\n",
       "1        4   1  Feeling very posey tonight  ANGRYICON it doesn...\n",
       "2        4   2  Fim de semana, porque  que ests a passar to...\n",
       "3        4   3  Dis I'd de first sat I've watched xfactor an J...\n",
       "4        4   4  RT UID My brother just left me now I'm here wi..."
      ]
     },
     "execution_count": 16,
     "metadata": {},
     "output_type": "execute_result"
    }
   ],
   "source": [
    "f = open('unhappy_inactive.txt','r')\n",
    "lines = [line.strip() for line in f]\n",
    "four = np.ones(len(lines),dtype=np.int)\n",
    "four = np.multiply(four,4)\n",
    "unhappy_inactive = pd.DataFrame(data={\"id\":list(range(len(lines))), \"text\":lines, \"emotion\":four})\n",
    "unhappy_inactive.head()"
   ]
  },
  {
   "cell_type": "code",
   "execution_count": 19,
   "metadata": {},
   "outputs": [
    {
     "data": {
      "text/html": [
       "<div>\n",
       "<style>\n",
       "    .dataframe thead tr:only-child th {\n",
       "        text-align: right;\n",
       "    }\n",
       "\n",
       "    .dataframe thead th {\n",
       "        text-align: left;\n",
       "    }\n",
       "\n",
       "    .dataframe tbody tr th {\n",
       "        vertical-align: top;\n",
       "    }\n",
       "</style>\n",
       "<table border=\"1\" class=\"dataframe\">\n",
       "  <thead>\n",
       "    <tr style=\"text-align: right;\">\n",
       "      <th></th>\n",
       "      <th>emotion</th>\n",
       "      <th>text</th>\n",
       "      <th>id</th>\n",
       "    </tr>\n",
       "  </thead>\n",
       "  <tbody>\n",
       "    <tr>\n",
       "      <th>20814</th>\n",
       "      <td>2</td>\n",
       "      <td>Ahora toca una duchita calentita #relax</td>\n",
       "      <td>0</td>\n",
       "    </tr>\n",
       "    <tr>\n",
       "      <th>15298</th>\n",
       "      <td>2</td>\n",
       "      <td>Hoy toca ducha relajante  #relax #velitas #nos...</td>\n",
       "      <td>1</td>\n",
       "    </tr>\n",
       "    <tr>\n",
       "      <th>18306</th>\n",
       "      <td>2</td>\n",
       "      <td>#Californication  HAPPYICON  #relax</td>\n",
       "      <td>2</td>\n",
       "    </tr>\n",
       "    <tr>\n",
       "      <th>11931</th>\n",
       "      <td>1</td>\n",
       "      <td>Cart compose myself im going on a date n at  y...</td>\n",
       "      <td>3</td>\n",
       "    </tr>\n",
       "    <tr>\n",
       "      <th>15617</th>\n",
       "      <td>4</td>\n",
       "      <td>What is wrong with me EXCLAMATION  #depressed</td>\n",
       "      <td>4</td>\n",
       "    </tr>\n",
       "  </tbody>\n",
       "</table>\n",
       "</div>"
      ],
      "text/plain": [
       "       emotion                                               text  id\n",
       "20814        2            Ahora toca una duchita calentita #relax   0\n",
       "15298        2  Hoy toca ducha relajante  #relax #velitas #nos...   1\n",
       "18306        2                #Californication  HAPPYICON  #relax   2\n",
       "11931        1  Cart compose myself im going on a date n at  y...   3\n",
       "15617        4      What is wrong with me EXCLAMATION  #depressed   4"
      ]
     },
     "execution_count": 19,
     "metadata": {},
     "output_type": "execute_result"
    }
   ],
   "source": [
    "frames = [happy_active, happy_inactive, unhappy_active, unhappy_inactive]\n",
    "train = pd.concat(frames)\n",
    "train = train.drop(labels=['id'],axis = 1)\n",
    "train = train.sample(frac = 1)\n",
    "\n",
    "index = [i for i in range(127374)]\n",
    "train['id'] = index\n",
    "\n",
    "train.head()"
   ]
  },
  {
   "cell_type": "code",
   "execution_count": 59,
   "metadata": {},
   "outputs": [
    {
     "data": {
      "text/plain": [
       "200"
      ]
     },
     "execution_count": 59,
     "metadata": {},
     "output_type": "execute_result"
    }
   ],
   "source": [
    "len(model.wv.syn0[0])"
   ]
  },
  {
   "cell_type": "code",
   "execution_count": 147,
   "metadata": {},
   "outputs": [],
   "source": [
    "# train.to_csv( \"Twitter_data_set_mixed_emo4.csv\", index=False, quoting=3 )\n",
    "index2word_set = set(model.wv.index2word)"
   ]
  },
  {
   "cell_type": "code",
   "execution_count": 148,
   "metadata": {},
   "outputs": [],
   "source": [
    "def clean_tweets( text ):\n",
    "    # clean_1 = BeautifulSoup(text,\"lxml\").get_text()\n",
    "    clean_2 = re.sub(\"[^a-zA-Z]\",\" \", text).lower().strip()\n",
    "    clean_3 = word_tokenize(clean_2)\n",
    "    stop_words = set(stopwords.words(\"english\")) - set(['and','or','not'])\n",
    "    words = [w for w in clean_3 if not w in stop_words]\n",
    "    return words\n",
    "\n"
   ]
  },
  {
   "cell_type": "code",
   "execution_count": 149,
   "metadata": {},
   "outputs": [],
   "source": [
    "index2word_set = set(model.wv.index2word)\n",
    "num_features = 200\n",
    "\n",
    "def makeFeatureVec(words, num_features = 200):\n",
    "    global index2word_set\n",
    "    featureVec = np.zeros((num_features,),dtype=\"float32\")\n",
    "    nwords = 0.00000000001\n",
    "    for word in words:\n",
    "        # if the word is in wordset then add to feature vec\n",
    "        if word in index2word_set: \n",
    "            nwords = nwords + 1.\n",
    "            featureVec = np.add(featureVec,model[word])\n",
    "    \n",
    "    featureVec = np.divide(featureVec,nwords)\n",
    "    return featureVec\n",
    "\n",
    "def get_average_feature_vectors( tweets, num_features = 200 ):\n",
    "    counter = 0\n",
    "    tweetFeatureVecs = np.zeros((len(tweets),num_features),dtype=\"float32\")\n",
    "    \n",
    "    for tweet in tweets:\n",
    "        tweetFeatureVecs[counter] = makeFeatureVec(tweet, num_features)\n",
    "        counter += 1\n",
    "    \n",
    "    return tweetFeatureVecs\n"
   ]
  },
  {
   "cell_type": "code",
   "execution_count": 150,
   "metadata": {},
   "outputs": [],
   "source": [
    "np.seterr(divide='ignore', invalid='ignore')\n",
    "start = time.time()\n",
    "\n",
    "cleaned_tweets = []\n",
    "for text in train['text']:\n",
    "    cleaned_tweets.append( clean_tweets(text))\n",
    "    \n",
    "trainDataVecs = get_average_feature_vectors( cleaned_tweets, num_features )\n",
    "\n",
    "end = time.time()\n",
    "\n",
    "elapsed_cleaning = end - start"
   ]
  },
  {
   "cell_type": "code",
   "execution_count": 151,
   "metadata": {},
   "outputs": [
    {
     "name": "stdout",
     "output_type": "stream",
     "text": [
      "Fitting a random forest to labeled training data...\n"
     ]
    }
   ],
   "source": [
    "import time\n",
    "from sklearn.ensemble import RandomForestClassifier\n",
    "forest = RandomForestClassifier( n_estimators = 200 )\n",
    "start = time.time() \n",
    "print(\"Fitting a random forest to labeled training data...\")\n",
    "forest = forest.fit( trainDataVecs, train[\"emotion\"] )\n",
    "\n",
    "end = time.time()\n",
    "elapsed_training = end - start"
   ]
  },
  {
   "cell_type": "code",
   "execution_count": 88,
   "metadata": {
    "collapsed": true
   },
   "outputs": [],
   "source": [
    "f_test = open('test_1.txt','r')\n",
    "lines_test = [line.strip() for line in f_test]\n",
    "\n",
    "test = pd.DataFrame(data = {'text':lines_test})"
   ]
  },
  {
   "cell_type": "code",
   "execution_count": 152,
   "metadata": {},
   "outputs": [],
   "source": [
    "cleaned_test_tweets = []\n",
    "for text in test['text']:\n",
    "    cleaned_test_tweets.append( clean_tweets(text))"
   ]
  },
  {
   "cell_type": "code",
   "execution_count": 153,
   "metadata": {
    "collapsed": true
   },
   "outputs": [],
   "source": [
    "testDataVecs = get_average_feature_vectors( cleaned_test_tweets, num_features )"
   ]
  },
  {
   "cell_type": "code",
   "execution_count": 154,
   "metadata": {
    "collapsed": true
   },
   "outputs": [],
   "source": [
    "result = forest.predict( testDataVecs )"
   ]
  },
  {
   "cell_type": "code",
   "execution_count": 155,
   "metadata": {},
   "outputs": [],
   "source": [
    "counter = 0\n",
    "for item in result:\n",
    "    if item == 4:\n",
    "        counter+=1"
   ]
  },
  {
   "cell_type": "code",
   "execution_count": 81,
   "metadata": {},
   "outputs": [],
   "source": [
    "a = len(testDataVecs)"
   ]
  },
  {
   "cell_type": "code",
   "execution_count": 71,
   "metadata": {},
   "outputs": [
    {
     "name": "stdout",
     "output_type": "stream",
     "text": [
      "200d twitter trained glove model\n",
      "random forest n = 200\n",
      "78.05926786751888\n"
     ]
    }
   ],
   "source": [
    "print(\"200d twitter trained glove model\")\n",
    "print(\"random forest n = 200\")\n",
    "print(counter/a*100)"
   ]
  },
  {
   "cell_type": "code",
   "execution_count": 82,
   "metadata": {},
   "outputs": [
    {
     "name": "stdout",
     "output_type": "stream",
     "text": [
      "without stop words..\n",
      "200d twitter trained glove model\n",
      "random forest n = 200\n",
      "78.03602556653108\n"
     ]
    }
   ],
   "source": [
    "print('without stop words..')\n",
    "print(\"200d twitter trained glove model\")\n",
    "print(\"random forest n = 200\")\n",
    "print(counter/a*100)"
   ]
  },
  {
   "cell_type": "code",
   "execution_count": 93,
   "metadata": {},
   "outputs": [
    {
     "name": "stdout",
     "output_type": "stream",
     "text": [
      "without stop words..\n",
      "200d twitter trained glove model\n",
      "random forest n = 200\n",
      "74.7007553747821\n"
     ]
    }
   ],
   "source": [
    "print('without stop words..')\n",
    "print(\"200d twitter trained glove model\")\n",
    "print(\"random forest n = 200\")\n",
    "print(counter/a*100)"
   ]
  },
  {
   "cell_type": "code",
   "execution_count": 128,
   "metadata": {},
   "outputs": [
    {
     "name": "stdout",
     "output_type": "stream",
     "text": [
      "tokenizer..\n",
      "200d twitter trained glove model\n",
      "random forest n = 200\n",
      "69.99418942475305\n"
     ]
    }
   ],
   "source": [
    "print('tokenizer.. and no lower ')\n",
    "print(\"200d twitter trained glove model\")\n",
    "print(\"random forest n = 200\")\n",
    "print(counter/a*100)"
   ]
  },
  {
   "cell_type": "code",
   "execution_count": 144,
   "metadata": {},
   "outputs": [
    {
     "name": "stdout",
     "output_type": "stream",
     "text": [
      "tokenizer.. and lower \n",
      "200d twitter trained glove model\n",
      "random forest n = 200\n",
      "78.11737361998838\n"
     ]
    }
   ],
   "source": [
    "print('tokenizer.. and lower ')\n",
    "print(\"200d twitter trained glove model\")\n",
    "print(\"random forest n = 200\")\n",
    "#print(\"time taken cleaning \"+ elapsed_cleaning)\n",
    "#print(\"time taken training \"+ elapsed_training)\n",
    "print(counter/a*100)"
   ]
  },
  {
   "cell_type": "code",
   "execution_count": 157,
   "metadata": {},
   "outputs": [
    {
     "name": "stdout",
     "output_type": "stream",
     "text": [
      "tokenizer.. and lower and without beautiful sopa \n",
      "200d twitter trained glove model\n",
      "random forest n = 200\n",
      "time taken cleaning 40.94924211502075\n",
      "time taken training 387.54068636894226\n",
      "78.18710052295177\n"
     ]
    }
   ],
   "source": [
    "print('tokenizer.. and lower and without beautiful soap ')\n",
    "print(\"200d twitter trained glove model\")\n",
    "print(\"random forest n = 200\")\n",
    "print(\"time taken cleaning \"+ str(elapsed_cleaning))\n",
    "print(\"time taken training \"+ str(elapsed_training))\n",
    "print(counter/a*100)"
   ]
  },
  {
   "cell_type": "code",
   "execution_count": null,
   "metadata": {
    "collapsed": true
   },
   "outputs": [],
   "source": []
  }
 ],
 "metadata": {
  "kernelspec": {
   "display_name": "Python 3",
   "language": "python",
   "name": "python3"
  },
  "language_info": {
   "codemirror_mode": {
    "name": "ipython",
    "version": 3
   },
   "file_extension": ".py",
   "mimetype": "text/x-python",
   "name": "python",
   "nbconvert_exporter": "python",
   "pygments_lexer": "ipython3",
   "version": "3.6.1"
  }
 },
 "nbformat": 4,
 "nbformat_minor": 2
}
